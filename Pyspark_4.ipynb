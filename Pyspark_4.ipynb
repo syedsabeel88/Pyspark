{
 "cells": [
  {
   "cell_type": "markdown",
   "metadata": {},
   "source": [
    "### Filter Operations"
   ]
  },
  {
   "cell_type": "code",
   "execution_count": 1,
   "metadata": {},
   "outputs": [],
   "source": [
    "from pyspark.sql import SparkSession\n",
    "spark = SparkSession.builder.appName(\"Dataframe\").getOrCreate()"
   ]
  },
  {
   "cell_type": "code",
   "execution_count": 3,
   "metadata": {},
   "outputs": [
    {
     "name": "stdout",
     "output_type": "stream",
     "text": [
      "+--------+---+----------+------+\n",
      "|    Name|Age|Experience|Salary|\n",
      "+--------+---+----------+------+\n",
      "|Mohammed| 33|        10| 30000|\n",
      "|  Ruhaan| 31|         8| 25000|\n",
      "|  Sabeel| 32|         9| 28000|\n",
      "| Ibrahim| 34|        12| 32000|\n",
      "|     Isa| 35|        10| 40000|\n",
      "|   Rahul| 23|         2| 15000|\n",
      "|   Virat| 30|         8| 25000|\n",
      "+--------+---+----------+------+\n",
      "\n"
     ]
    }
   ],
   "source": [
    "df_spark = spark.read.csv(\"Info_3.csv\", header=True, inferSchema=True)\n",
    "df_spark.show()"
   ]
  },
  {
   "cell_type": "code",
   "execution_count": 4,
   "metadata": {},
   "outputs": [
    {
     "name": "stdout",
     "output_type": "stream",
     "text": [
      "+--------+---+----------+------+\n",
      "|    Name|Age|Experience|Salary|\n",
      "+--------+---+----------+------+\n",
      "|Mohammed| 33|        10| 30000|\n",
      "|  Ruhaan| 31|         8| 25000|\n",
      "|  Sabeel| 32|         9| 28000|\n",
      "|   Rahul| 23|         2| 15000|\n",
      "|   Virat| 30|         8| 25000|\n",
      "+--------+---+----------+------+\n",
      "\n"
     ]
    }
   ],
   "source": [
    "# salary of the employee less than or equal to 30000\n",
    "df_spark.filter(\"Salary<=30000\").show()"
   ]
  },
  {
   "cell_type": "code",
   "execution_count": 5,
   "metadata": {},
   "outputs": [
    {
     "name": "stdout",
     "output_type": "stream",
     "text": [
      "+--------+---+----------+------+\n",
      "|    Name|Age|Experience|Salary|\n",
      "+--------+---+----------+------+\n",
      "|Mohammed| 33|        10| 30000|\n",
      "|  Ruhaan| 31|         8| 25000|\n",
      "|  Sabeel| 32|         9| 28000|\n",
      "|   Rahul| 23|         2| 15000|\n",
      "|   Virat| 30|         8| 25000|\n",
      "+--------+---+----------+------+\n",
      "\n"
     ]
    }
   ],
   "source": [
    "df_spark.filter(df_spark['Salary']<=30000).show()"
   ]
  },
  {
   "cell_type": "code",
   "execution_count": 6,
   "metadata": {},
   "outputs": [
    {
     "name": "stdout",
     "output_type": "stream",
     "text": [
      "+--------+------+\n",
      "|    Name|Salary|\n",
      "+--------+------+\n",
      "|Mohammed| 30000|\n",
      "|  Ruhaan| 25000|\n",
      "|  Sabeel| 28000|\n",
      "|   Rahul| 15000|\n",
      "|   Virat| 25000|\n",
      "+--------+------+\n",
      "\n"
     ]
    }
   ],
   "source": [
    "df_spark.filter(df_spark['Salary']<=30000).select(['Name', 'Salary']).show()"
   ]
  },
  {
   "cell_type": "code",
   "execution_count": 10,
   "metadata": {},
   "outputs": [
    {
     "name": "stdout",
     "output_type": "stream",
     "text": [
      "+--------+---+----------+------+\n",
      "|    Name|Age|Experience|Salary|\n",
      "+--------+---+----------+------+\n",
      "|Mohammed| 33|        10| 30000|\n",
      "|  Ruhaan| 31|         8| 25000|\n",
      "|  Sabeel| 32|         9| 28000|\n",
      "|   Virat| 30|         8| 25000|\n",
      "+--------+---+----------+------+\n",
      "\n"
     ]
    }
   ],
   "source": [
    "df_spark.filter((df_spark['Salary']<=30000) &\n",
    "                (df_spark['Salary']>=25000)).show()"
   ]
  }
 ],
 "metadata": {
  "kernelspec": {
   "display_name": "Python 3",
   "language": "python",
   "name": "python3"
  },
  "language_info": {
   "codemirror_mode": {
    "name": "ipython",
    "version": 3
   },
   "file_extension": ".py",
   "mimetype": "text/x-python",
   "name": "python",
   "nbconvert_exporter": "python",
   "pygments_lexer": "ipython3",
   "version": "3.9.0"
  },
  "orig_nbformat": 4
 },
 "nbformat": 4,
 "nbformat_minor": 2
}
