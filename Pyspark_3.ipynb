{
 "cells": [
  {
   "cell_type": "markdown",
   "metadata": {},
   "source": [
    "## Pyspark Handling missing values\n",
    ". Dropping columns\n",
    ". Dropping rows\n",
    ". Various parameters in dropping functionalities\n",
    ". Handling missing values by mean, median and mode"
   ]
  },
  {
   "cell_type": "code",
   "execution_count": 1,
   "metadata": {},
   "outputs": [],
   "source": [
    "from pyspark.sql import SparkSession\n",
    "spark = SparkSession.builder.appName('Practise').getOrCreate()"
   ]
  },
  {
   "cell_type": "code",
   "execution_count": 34,
   "metadata": {},
   "outputs": [],
   "source": [
    "df_pyspark = spark.read.csv('Info_2.csv', header=True, inferSchema=True)"
   ]
  },
  {
   "cell_type": "code",
   "execution_count": 4,
   "metadata": {},
   "outputs": [
    {
     "name": "stdout",
     "output_type": "stream",
     "text": [
      "root\n",
      " |-- Name: string (nullable = true)\n",
      " |-- Age: integer (nullable = true)\n",
      " |-- Experience: integer (nullable = true)\n",
      " |-- Salary: integer (nullable = true)\n",
      "\n"
     ]
    }
   ],
   "source": [
    "df_pyspark.printSchema()"
   ]
  },
  {
   "cell_type": "code",
   "execution_count": 5,
   "metadata": {},
   "outputs": [
    {
     "name": "stdout",
     "output_type": "stream",
     "text": [
      "+--------+----+----------+------+\n",
      "|    Name| Age|Experience|Salary|\n",
      "+--------+----+----------+------+\n",
      "|Mohammed|  33|        10| 30000|\n",
      "|  Ruhaan|  31|         8|  null|\n",
      "|  Sabeel|  32|      null| 28000|\n",
      "| Ibrahim|  34|      null| 32000|\n",
      "|     Isa|null|        10|  null|\n",
      "|   Rahul|  23|         2| 15000|\n",
      "|   Virat|  30|      null| 25000|\n",
      "|    null|  28|         5|  null|\n",
      "+--------+----+----------+------+\n",
      "\n"
     ]
    }
   ],
   "source": [
    "df_pyspark.show()"
   ]
  },
  {
   "cell_type": "code",
   "execution_count": 6,
   "metadata": {},
   "outputs": [
    {
     "name": "stdout",
     "output_type": "stream",
     "text": [
      "+----+----------+------+\n",
      "| Age|Experience|Salary|\n",
      "+----+----------+------+\n",
      "|  33|        10| 30000|\n",
      "|  31|         8|  null|\n",
      "|  32|      null| 28000|\n",
      "|  34|      null| 32000|\n",
      "|null|        10|  null|\n",
      "|  23|         2| 15000|\n",
      "|  30|      null| 25000|\n",
      "|  28|         5|  null|\n",
      "+----+----------+------+\n",
      "\n"
     ]
    }
   ],
   "source": [
    "#drop the columns\n",
    "df_pyspark.drop('Name').show()"
   ]
  },
  {
   "cell_type": "code",
   "execution_count": 7,
   "metadata": {},
   "outputs": [
    {
     "name": "stdout",
     "output_type": "stream",
     "text": [
      "+--------+----+----------+------+\n",
      "|    Name| Age|Experience|Salary|\n",
      "+--------+----+----------+------+\n",
      "|Mohammed|  33|        10| 30000|\n",
      "|  Ruhaan|  31|         8|  null|\n",
      "|  Sabeel|  32|      null| 28000|\n",
      "| Ibrahim|  34|      null| 32000|\n",
      "|     Isa|null|        10|  null|\n",
      "|   Rahul|  23|         2| 15000|\n",
      "|   Virat|  30|      null| 25000|\n",
      "|    null|  28|         5|  null|\n",
      "+--------+----+----------+------+\n",
      "\n"
     ]
    }
   ],
   "source": [
    "df_pyspark.show()"
   ]
  },
  {
   "cell_type": "code",
   "execution_count": 8,
   "metadata": {},
   "outputs": [
    {
     "name": "stdout",
     "output_type": "stream",
     "text": [
      "+--------+---+----------+------+\n",
      "|    Name|Age|Experience|Salary|\n",
      "+--------+---+----------+------+\n",
      "|Mohammed| 33|        10| 30000|\n",
      "|   Rahul| 23|         2| 15000|\n",
      "+--------+---+----------+------+\n",
      "\n"
     ]
    }
   ],
   "source": [
    "df_pyspark.na.drop().show()"
   ]
  },
  {
   "cell_type": "code",
   "execution_count": 26,
   "metadata": {},
   "outputs": [
    {
     "name": "stdout",
     "output_type": "stream",
     "text": [
      "+--------+---+----------+------+\n",
      "|    Name|Age|Experience|Salary|\n",
      "+--------+---+----------+------+\n",
      "|Mohammed| 33|        10| 30000|\n",
      "|  Ruhaan| 31|         8|  null|\n",
      "|  Sabeel| 32|      null| 28000|\n",
      "| Ibrahim| 34|      null| 32000|\n",
      "|   Rahul| 23|         2| 15000|\n",
      "|   Virat| 30|      null| 25000|\n",
      "+--------+---+----------+------+\n",
      "\n"
     ]
    }
   ],
   "source": [
    "#thresh is the non null value to be shown\n",
    "df_pyspark.na.drop(how='any', thresh=3).show()"
   ]
  },
  {
   "cell_type": "code",
   "execution_count": 27,
   "metadata": {},
   "outputs": [
    {
     "name": "stdout",
     "output_type": "stream",
     "text": [
      "+--------+----+----------+------+\n",
      "|    Name| Age|Experience|Salary|\n",
      "+--------+----+----------+------+\n",
      "|Mohammed|  33|        10| 30000|\n",
      "|  Ruhaan|  31|         8|  null|\n",
      "|  Sabeel|  32|      null| 28000|\n",
      "| Ibrahim|  34|      null| 32000|\n",
      "|     Isa|null|        10|  null|\n",
      "|   Rahul|  23|         2| 15000|\n",
      "|   Virat|  30|      null| 25000|\n",
      "|    null|  28|         5|  null|\n",
      "+--------+----+----------+------+\n",
      "\n"
     ]
    }
   ],
   "source": [
    "df_pyspark.na.drop(how=\"all\").show()"
   ]
  },
  {
   "cell_type": "code",
   "execution_count": 28,
   "metadata": {},
   "outputs": [
    {
     "name": "stdout",
     "output_type": "stream",
     "text": [
      "+--------+----+----------+------+\n",
      "|    Name| Age|Experience|Salary|\n",
      "+--------+----+----------+------+\n",
      "|Mohammed|  33|        10| 30000|\n",
      "|  Ruhaan|  31|         8|  null|\n",
      "|     Isa|null|        10|  null|\n",
      "|   Rahul|  23|         2| 15000|\n",
      "|    null|  28|         5|  null|\n",
      "+--------+----+----------+------+\n",
      "\n"
     ]
    }
   ],
   "source": [
    "#subset\n",
    "df_pyspark.na.drop(how='any', subset=['Experience']).show()"
   ]
  },
  {
   "cell_type": "code",
   "execution_count": 29,
   "metadata": {},
   "outputs": [
    {
     "name": "stdout",
     "output_type": "stream",
     "text": [
      "+--------+---+----------+------+\n",
      "|    Name|Age|Experience|Salary|\n",
      "+--------+---+----------+------+\n",
      "|Mohammed| 33|        10| 30000|\n",
      "|  Ruhaan| 31|         8|  null|\n",
      "|   Rahul| 23|         2| 15000|\n",
      "|    null| 28|         5|  null|\n",
      "+--------+---+----------+------+\n",
      "\n"
     ]
    }
   ],
   "source": [
    "#subset\n",
    "df_pyspark.na.drop(how='any', subset=['Experience','age']).show()"
   ]
  },
  {
   "cell_type": "code",
   "execution_count": 38,
   "metadata": {},
   "outputs": [
    {
     "name": "stdout",
     "output_type": "stream",
     "text": [
      "+--------+----+----------+------+\n",
      "|    Name| Age|Experience|Salary|\n",
      "+--------+----+----------+------+\n",
      "|Mohammed|  33|        10| 30000|\n",
      "|  Ruhaan|  31|         8|  null|\n",
      "|  Sabeel|  32|      null| 28000|\n",
      "| Ibrahim|  34|      null| 32000|\n",
      "|     Isa|null|        10|  null|\n",
      "|   Rahul|  23|         2| 15000|\n",
      "|   Virat|  30|      null| 25000|\n",
      "|    null|  28|         5|  null|\n",
      "+--------+----+----------+------+\n",
      "\n"
     ]
    }
   ],
   "source": [
    "#filling missing values\n",
    "\n",
    "df_pyspark.na.fill('Missing Values', ['Experience','age']).show()"
   ]
  },
  {
   "cell_type": "code",
   "execution_count": 39,
   "metadata": {},
   "outputs": [
    {
     "name": "stdout",
     "output_type": "stream",
     "text": [
      "+--------+----+----------+------+\n",
      "|    Name| Age|Experience|Salary|\n",
      "+--------+----+----------+------+\n",
      "|Mohammed|  33|        10| 30000|\n",
      "|  Ruhaan|  31|         8|  null|\n",
      "|  Sabeel|  32|      null| 28000|\n",
      "| Ibrahim|  34|      null| 32000|\n",
      "|     Isa|null|        10|  null|\n",
      "|   Rahul|  23|         2| 15000|\n",
      "|   Virat|  30|      null| 25000|\n",
      "|    null|  28|         5|  null|\n",
      "+--------+----+----------+------+\n",
      "\n"
     ]
    }
   ],
   "source": [
    "df_pyspark.show()"
   ]
  },
  {
   "cell_type": "code",
   "execution_count": 66,
   "metadata": {},
   "outputs": [],
   "source": [
    "from pyspark.ml.feature import Imputer\n",
    "imputer = Imputer(\n",
    "    inputCols=['Age','Experience','Salary'],\n",
    "outputCols=[\"{}_imputed\".format(c) for c in ['Age','Experience','Salary']]).setStrategy(\"mode\")"
   ]
  },
  {
   "cell_type": "code",
   "execution_count": 67,
   "metadata": {},
   "outputs": [
    {
     "name": "stdout",
     "output_type": "stream",
     "text": [
      "+--------+----+----------+------+-----------+------------------+--------------+\n",
      "|    Name| Age|Experience|Salary|Age_imputed|Experience_imputed|Salary_imputed|\n",
      "+--------+----+----------+------+-----------+------------------+--------------+\n",
      "|Mohammed|  33|        10| 30000|         33|                10|         30000|\n",
      "|  Ruhaan|  31|         8|  null|         31|                 8|         15000|\n",
      "|  Sabeel|  32|      null| 28000|         32|                10|         28000|\n",
      "| Ibrahim|  34|      null| 32000|         34|                10|         32000|\n",
      "|     Isa|null|        10|  null|         23|                10|         15000|\n",
      "|   Rahul|  23|         2| 15000|         23|                 2|         15000|\n",
      "|   Virat|  30|      null| 25000|         30|                10|         25000|\n",
      "|    null|  28|         5|  null|         28|                 5|         15000|\n",
      "+--------+----+----------+------+-----------+------------------+--------------+\n",
      "\n"
     ]
    }
   ],
   "source": [
    "#add imputation columns to df\n",
    "imputer.fit(df_pyspark).transform(df_pyspark).show()"
   ]
  },
  {
   "cell_type": "code",
   "execution_count": null,
   "metadata": {},
   "outputs": [],
   "source": []
  },
  {
   "cell_type": "code",
   "execution_count": null,
   "metadata": {},
   "outputs": [],
   "source": []
  },
  {
   "cell_type": "code",
   "execution_count": null,
   "metadata": {},
   "outputs": [],
   "source": []
  }
 ],
 "metadata": {
  "kernelspec": {
   "display_name": "Python 3",
   "language": "python",
   "name": "python3"
  },
  "language_info": {
   "codemirror_mode": {
    "name": "ipython",
    "version": 3
   },
   "file_extension": ".py",
   "mimetype": "text/x-python",
   "name": "python",
   "nbconvert_exporter": "python",
   "pygments_lexer": "ipython3",
   "version": "3.9.0"
  },
  "orig_nbformat": 4
 },
 "nbformat": 4,
 "nbformat_minor": 2
}
