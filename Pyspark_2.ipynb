{
 "cells": [
  {
   "cell_type": "markdown",
   "metadata": {},
   "source": [
    "Pyspark DataFrame"
   ]
  },
  {
   "cell_type": "code",
   "execution_count": 1,
   "metadata": {},
   "outputs": [],
   "source": [
    "from pyspark.sql import SparkSession"
   ]
  },
  {
   "cell_type": "code",
   "execution_count": 2,
   "metadata": {},
   "outputs": [],
   "source": [
    "spark = SparkSession.builder.appName('DataFrame').getOrCreate()"
   ]
  },
  {
   "cell_type": "code",
   "execution_count": 3,
   "metadata": {},
   "outputs": [
    {
     "data": {
      "text/html": [
       "\n",
       "            <div>\n",
       "                <p><b>SparkSession - in-memory</b></p>\n",
       "                \n",
       "        <div>\n",
       "            <p><b>SparkContext</b></p>\n",
       "\n",
       "            <p><a href=\"http://STRLNKDXB-Sidra:4041\">Spark UI</a></p>\n",
       "\n",
       "            <dl>\n",
       "              <dt>Version</dt>\n",
       "                <dd><code>v3.5.0</code></dd>\n",
       "              <dt>Master</dt>\n",
       "                <dd><code>local[*]</code></dd>\n",
       "              <dt>AppName</dt>\n",
       "                <dd><code>DataFrame</code></dd>\n",
       "            </dl>\n",
       "        </div>\n",
       "        \n",
       "            </div>\n",
       "        "
      ],
      "text/plain": [
       "<pyspark.sql.session.SparkSession at 0x2e1e47f9fd0>"
      ]
     },
     "execution_count": 3,
     "metadata": {},
     "output_type": "execute_result"
    }
   ],
   "source": [
    "spark"
   ]
  },
  {
   "cell_type": "code",
   "execution_count": 11,
   "metadata": {},
   "outputs": [
    {
     "data": {
      "text/plain": [
       "DataFrame[Name: string, Type: string, Qty: int]"
      ]
     },
     "execution_count": 11,
     "metadata": {},
     "output_type": "execute_result"
    }
   ],
   "source": [
    "df_pyspark = spark.read.option('header','true').csv('Info_1.csv', inferSchema = True)\n",
    "#inferSchema will give proper datatype of the features\n",
    "df_pyspark"
   ]
  },
  {
   "cell_type": "code",
   "execution_count": 12,
   "metadata": {},
   "outputs": [
    {
     "name": "stdout",
     "output_type": "stream",
     "text": [
      "root\n",
      " |-- Name: string (nullable = true)\n",
      " |-- Type: string (nullable = true)\n",
      " |-- Qty: integer (nullable = true)\n",
      "\n"
     ]
    }
   ],
   "source": [
    "df_pyspark.printSchema()"
   ]
  },
  {
   "cell_type": "code",
   "execution_count": 14,
   "metadata": {},
   "outputs": [
    {
     "name": "stdout",
     "output_type": "stream",
     "text": [
      "+------+---------+---+\n",
      "|  Name|     Type|Qty|\n",
      "+------+---------+---+\n",
      "| Apple|    Fruit|  2|\n",
      "| Onion|Vegetable|  3|\n",
      "|Carrot|Vegetable|  1|\n",
      "+------+---------+---+\n",
      "\n"
     ]
    }
   ],
   "source": [
    "# Otherway of reading data\n",
    "df_pyspark = spark.read.csv('Info_1.csv', header=True,inferSchema=True)\n",
    "df_pyspark.show()"
   ]
  },
  {
   "cell_type": "code",
   "execution_count": 15,
   "metadata": {},
   "outputs": [
    {
     "name": "stdout",
     "output_type": "stream",
     "text": [
      "root\n",
      " |-- Name: string (nullable = true)\n",
      " |-- Type: string (nullable = true)\n",
      " |-- Qty: integer (nullable = true)\n",
      "\n"
     ]
    }
   ],
   "source": [
    "df_pyspark.printSchema()"
   ]
  },
  {
   "cell_type": "code",
   "execution_count": 16,
   "metadata": {},
   "outputs": [
    {
     "data": {
      "text/plain": [
       "pyspark.sql.dataframe.DataFrame"
      ]
     },
     "execution_count": 16,
     "metadata": {},
     "output_type": "execute_result"
    }
   ],
   "source": [
    "type(df_pyspark)"
   ]
  },
  {
   "cell_type": "code",
   "execution_count": 17,
   "metadata": {},
   "outputs": [
    {
     "data": {
      "text/plain": [
       "['Name', 'Type', 'Qty']"
      ]
     },
     "execution_count": 17,
     "metadata": {},
     "output_type": "execute_result"
    }
   ],
   "source": [
    "df_pyspark.columns"
   ]
  },
  {
   "cell_type": "code",
   "execution_count": 26,
   "metadata": {},
   "outputs": [
    {
     "name": "stdout",
     "output_type": "stream",
     "text": [
      "+------+\n",
      "|  Name|\n",
      "+------+\n",
      "| Apple|\n",
      "| Onion|\n",
      "|Carrot|\n",
      "+------+\n",
      "\n",
      "None\n",
      "<class 'pyspark.sql.dataframe.DataFrame'>\n",
      "+------+---+\n",
      "|  Name|Qty|\n",
      "+------+---+\n",
      "| Apple|  2|\n",
      "| Onion|  3|\n",
      "|Carrot|  1|\n",
      "+------+---+\n",
      "\n",
      "None\n"
     ]
    }
   ],
   "source": [
    "#Selecting columns (slicing wont work in pyspark)\n",
    "print(df_pyspark.select('Name').show())\n",
    "print(type(df_pyspark.select('Name')))\n",
    "#multiple columns\n",
    "print(df_pyspark.select(['Name','Qty']).show())"
   ]
  },
  {
   "cell_type": "code",
   "execution_count": 27,
   "metadata": {},
   "outputs": [
    {
     "data": {
      "text/plain": [
       "[('Name', 'string'), ('Type', 'string'), ('Qty', 'int')]"
      ]
     },
     "execution_count": 27,
     "metadata": {},
     "output_type": "execute_result"
    }
   ],
   "source": [
    "df_pyspark.dtypes"
   ]
  },
  {
   "cell_type": "code",
   "execution_count": 34,
   "metadata": {},
   "outputs": [
    {
     "name": "stdout",
     "output_type": "stream",
     "text": [
      "+-------+-----+---------+---+\n",
      "|summary| Name|     Type|Qty|\n",
      "+-------+-----+---------+---+\n",
      "|  count|    3|        3|  3|\n",
      "|   mean| null|     null|2.0|\n",
      "| stddev| null|     null|1.0|\n",
      "|    min|Apple|    Fruit|  1|\n",
      "|    max|Onion|Vegetable|  3|\n",
      "+-------+-----+---------+---+\n",
      "\n"
     ]
    }
   ],
   "source": [
    "df_pyspark.describe().show()"
   ]
  },
  {
   "cell_type": "code",
   "execution_count": 37,
   "metadata": {},
   "outputs": [
    {
     "name": "stdout",
     "output_type": "stream",
     "text": [
      "+------+---------+---+------------------+\n",
      "|  Name|     Type|Qty|Qty after adding 2|\n",
      "+------+---------+---+------------------+\n",
      "| Apple|    Fruit|  2|                 4|\n",
      "| Onion|Vegetable|  3|                 5|\n",
      "|Carrot|Vegetable|  1|                 3|\n",
      "+------+---------+---+------------------+\n",
      "\n"
     ]
    }
   ],
   "source": [
    "#Adding columns to the dataframe\n",
    "df_pyspark=df_pyspark.withColumn('Qty after adding 2', df_pyspark['Qty']+2)\n",
    "df_pyspark.show()"
   ]
  },
  {
   "cell_type": "code",
   "execution_count": 41,
   "metadata": {},
   "outputs": [
    {
     "name": "stdout",
     "output_type": "stream",
     "text": [
      "+------+---------+---+\n",
      "|  Name|     Type|Qty|\n",
      "+------+---------+---+\n",
      "| Apple|    Fruit|  2|\n",
      "| Onion|Vegetable|  3|\n",
      "|Carrot|Vegetable|  1|\n",
      "+------+---------+---+\n",
      "\n"
     ]
    }
   ],
   "source": [
    "#Dropping the columns\n",
    "df_pyspark = df_pyspark.drop('Qty after adding 2')\n",
    "df_pyspark.show()"
   ]
  },
  {
   "cell_type": "code",
   "execution_count": 44,
   "metadata": {},
   "outputs": [
    {
     "name": "stdout",
     "output_type": "stream",
     "text": [
      "+--------+---------+---+\n",
      "|New Name|     Type|Qty|\n",
      "+--------+---------+---+\n",
      "|   Apple|    Fruit|  2|\n",
      "|   Onion|Vegetable|  3|\n",
      "|  Carrot|Vegetable|  1|\n",
      "+--------+---------+---+\n",
      "\n"
     ]
    }
   ],
   "source": [
    "#Rename the column\n",
    "df_pyspark= df_pyspark.withColumnRenamed('Name', 'New Name')\n",
    "df_pyspark.show()"
   ]
  }
 ],
 "metadata": {
  "kernelspec": {
   "display_name": "Python 3",
   "language": "python",
   "name": "python3"
  },
  "language_info": {
   "codemirror_mode": {
    "name": "ipython",
    "version": 3
   },
   "file_extension": ".py",
   "mimetype": "text/x-python",
   "name": "python",
   "nbconvert_exporter": "python",
   "pygments_lexer": "ipython3",
   "version": "3.9.0"
  },
  "orig_nbformat": 4
 },
 "nbformat": 4,
 "nbformat_minor": 2
}
