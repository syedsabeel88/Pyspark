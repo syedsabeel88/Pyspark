{
 "cells": [
  {
   "cell_type": "markdown",
   "metadata": {},
   "source": [
    "#### Data Frame API\n",
    "#### Example of pyspark ML"
   ]
  },
  {
   "cell_type": "code",
   "execution_count": 1,
   "metadata": {},
   "outputs": [],
   "source": [
    "from pyspark.sql import SparkSession\n",
    "spark = SparkSession.builder.appName('ML').getOrCreate()"
   ]
  },
  {
   "cell_type": "code",
   "execution_count": 2,
   "metadata": {},
   "outputs": [
    {
     "name": "stdout",
     "output_type": "stream",
     "text": [
      "+--------+---+----------+------+\n",
      "|    Name|Age|Experience|Salary|\n",
      "+--------+---+----------+------+\n",
      "|Mohammed| 33|        10| 30000|\n",
      "|  Ruhaan| 31|         8| 25000|\n",
      "|  Sabeel| 32|         9| 28000|\n",
      "| Ibrahim| 34|        12| 32000|\n",
      "|     Isa| 35|        10| 40000|\n",
      "|   Rahul| 23|         2| 15000|\n",
      "|   Virat| 30|         8| 25000|\n",
      "+--------+---+----------+------+\n",
      "\n"
     ]
    }
   ],
   "source": [
    "df_spark = spark.read.csv(\"Info_3.csv\", header = True, inferSchema=True)\n",
    "df_spark.show()"
   ]
  },
  {
   "cell_type": "code",
   "execution_count": 3,
   "metadata": {},
   "outputs": [
    {
     "name": "stdout",
     "output_type": "stream",
     "text": [
      "root\n",
      " |-- Name: string (nullable = true)\n",
      " |-- Age: integer (nullable = true)\n",
      " |-- Experience: integer (nullable = true)\n",
      " |-- Salary: integer (nullable = true)\n",
      "\n"
     ]
    }
   ],
   "source": [
    "df_spark.printSchema()"
   ]
  },
  {
   "cell_type": "code",
   "execution_count": 4,
   "metadata": {},
   "outputs": [
    {
     "data": {
      "text/plain": [
       "['Name', 'Age', 'Experience', 'Salary']"
      ]
     },
     "execution_count": 4,
     "metadata": {},
     "output_type": "execute_result"
    }
   ],
   "source": [
    "df_spark.columns"
   ]
  },
  {
   "cell_type": "code",
   "execution_count": 8,
   "metadata": {},
   "outputs": [],
   "source": [
    "# we need to group independent variables [Age, Experience] into  new feature, in pyspark we use vector assembler\n",
    "from pyspark.ml.feature import VectorAssembler\n",
    "featureassembler = VectorAssembler(inputCols=['Age','Experience'], outputCol=\"Independent Features\")\n"
   ]
  },
  {
   "cell_type": "code",
   "execution_count": 9,
   "metadata": {},
   "outputs": [
    {
     "name": "stdout",
     "output_type": "stream",
     "text": [
      "+--------+---+----------+------+--------------------+\n",
      "|    Name|Age|Experience|Salary|Independent Features|\n",
      "+--------+---+----------+------+--------------------+\n",
      "|Mohammed| 33|        10| 30000|         [33.0,10.0]|\n",
      "|  Ruhaan| 31|         8| 25000|          [31.0,8.0]|\n",
      "|  Sabeel| 32|         9| 28000|          [32.0,9.0]|\n",
      "| Ibrahim| 34|        12| 32000|         [34.0,12.0]|\n",
      "|     Isa| 35|        10| 40000|         [35.0,10.0]|\n",
      "|   Rahul| 23|         2| 15000|          [23.0,2.0]|\n",
      "|   Virat| 30|         8| 25000|          [30.0,8.0]|\n",
      "+--------+---+----------+------+--------------------+\n",
      "\n"
     ]
    }
   ],
   "source": [
    "output = featureassembler.transform(df_spark)\n",
    "output.show()"
   ]
  },
  {
   "cell_type": "code",
   "execution_count": 10,
   "metadata": {},
   "outputs": [],
   "source": [
    "df_final = output.select(\"Independent Features\", \"Salary\")"
   ]
  },
  {
   "cell_type": "code",
   "execution_count": 11,
   "metadata": {},
   "outputs": [
    {
     "name": "stdout",
     "output_type": "stream",
     "text": [
      "+--------------------+------+\n",
      "|Independent Features|Salary|\n",
      "+--------------------+------+\n",
      "|         [33.0,10.0]| 30000|\n",
      "|          [31.0,8.0]| 25000|\n",
      "|          [32.0,9.0]| 28000|\n",
      "|         [34.0,12.0]| 32000|\n",
      "|         [35.0,10.0]| 40000|\n",
      "|          [23.0,2.0]| 15000|\n",
      "|          [30.0,8.0]| 25000|\n",
      "+--------------------+------+\n",
      "\n"
     ]
    }
   ],
   "source": [
    "df_final.show()"
   ]
  },
  {
   "cell_type": "code",
   "execution_count": 12,
   "metadata": {},
   "outputs": [],
   "source": [
    "from pyspark.ml.regression import LinearRegression\n",
    "train_data, test_data = df_final.randomSplit([0.75,0.25])\n",
    "lr_spark = LinearRegression(featuresCol='Independent Features', labelCol='Salary')\n",
    "lr_spark = lr_spark.fit(train_data)"
   ]
  },
  {
   "cell_type": "code",
   "execution_count": 13,
   "metadata": {},
   "outputs": [
    {
     "data": {
      "text/plain": [
       "DenseVector([466.1885, 1045.082])"
      ]
     },
     "execution_count": 13,
     "metadata": {},
     "output_type": "execute_result"
    }
   ],
   "source": [
    "lr_spark.coefficients"
   ]
  },
  {
   "cell_type": "code",
   "execution_count": 14,
   "metadata": {},
   "outputs": [
    {
     "data": {
      "text/plain": [
       "2187.5"
      ]
     },
     "execution_count": 14,
     "metadata": {},
     "output_type": "execute_result"
    }
   ],
   "source": [
    "lr_spark.intercept"
   ]
  },
  {
   "cell_type": "code",
   "execution_count": 18,
   "metadata": {},
   "outputs": [
    {
     "name": "stdout",
     "output_type": "stream",
     "text": [
      "+--------------------+------+\n",
      "|Independent Features|Salary|\n",
      "+--------------------+------+\n",
      "|          [30.0,8.0]| 25000|\n",
      "|          [32.0,9.0]| 28000|\n",
      "|         [33.0,10.0]| 30000|\n",
      "|         [34.0,12.0]| 32000|\n",
      "|         [35.0,10.0]| 40000|\n",
      "+--------------------+------+\n",
      "\n"
     ]
    }
   ],
   "source": [
    "test_data.show()"
   ]
  },
  {
   "cell_type": "code",
   "execution_count": 15,
   "metadata": {},
   "outputs": [],
   "source": [
    "#prediction\n",
    "pred_results = lr_spark.evaluate(test_data)"
   ]
  },
  {
   "cell_type": "code",
   "execution_count": 16,
   "metadata": {},
   "outputs": [
    {
     "name": "stdout",
     "output_type": "stream",
     "text": [
      "+--------------------+------+------------------+\n",
      "|Independent Features|Salary|        prediction|\n",
      "+--------------------+------+------------------+\n",
      "|          [30.0,8.0]| 25000|24533.811475409842|\n",
      "|          [32.0,9.0]| 28000|26511.270491803283|\n",
      "|         [33.0,10.0]| 30000|28022.540983606563|\n",
      "|         [34.0,12.0]| 32000|30578.893442622957|\n",
      "|         [35.0,10.0]| 40000| 28954.91803278689|\n",
      "+--------------------+------+------------------+\n",
      "\n"
     ]
    }
   ],
   "source": [
    "pred_results.predictions.show()"
   ]
  },
  {
   "cell_type": "code",
   "execution_count": null,
   "metadata": {},
   "outputs": [],
   "source": []
  },
  {
   "cell_type": "code",
   "execution_count": null,
   "metadata": {},
   "outputs": [],
   "source": []
  }
 ],
 "metadata": {
  "kernelspec": {
   "display_name": "Python 3",
   "language": "python",
   "name": "python3"
  },
  "language_info": {
   "codemirror_mode": {
    "name": "ipython",
    "version": 3
   },
   "file_extension": ".py",
   "mimetype": "text/x-python",
   "name": "python",
   "nbconvert_exporter": "python",
   "pygments_lexer": "ipython3",
   "version": "3.9.0"
  },
  "orig_nbformat": 4
 },
 "nbformat": 4,
 "nbformat_minor": 2
}
