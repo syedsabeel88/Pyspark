{
 "cells": [
  {
   "cell_type": "markdown",
   "metadata": {},
   "source": [
    "#### Group by & Aggregate"
   ]
  },
  {
   "cell_type": "code",
   "execution_count": 1,
   "metadata": {},
   "outputs": [],
   "source": [
    "from pyspark.sql import SparkSession\n",
    "spark = SparkSession.builder.appName(\"Agg\").getOrCreate()"
   ]
  },
  {
   "cell_type": "code",
   "execution_count": 3,
   "metadata": {},
   "outputs": [
    {
     "name": "stdout",
     "output_type": "stream",
     "text": [
      "+--------+-------------+------+\n",
      "|    Name|   Department|Salary|\n",
      "+--------+-------------+------+\n",
      "|Mohammed|     Big Data|  2000|\n",
      "|  Ruhaan| Data Science| 10000|\n",
      "|  Sabeel| Data Science| 12000|\n",
      "| Ibrahim|Data Engineer|  5000|\n",
      "|Mohammed| Data Science|  8000|\n",
      "|  Ruhaan|Data Engineer|  6000|\n",
      "|  Sabeel|     Big Data|  5000|\n",
      "|     Isa|     Big Data|  4000|\n",
      "|     Isa|Data Engineer|  5000|\n",
      "| Ibrahim| Data Science| 12000|\n",
      "+--------+-------------+------+\n",
      "\n"
     ]
    }
   ],
   "source": [
    "df_spark = spark.read.csv(\"Info_4.csv\", header=True, inferSchema=True)\n",
    "df_spark.show()"
   ]
  },
  {
   "cell_type": "code",
   "execution_count": 6,
   "metadata": {},
   "outputs": [
    {
     "name": "stdout",
     "output_type": "stream",
     "text": [
      "+--------+-----------+\n",
      "|    Name|sum(Salary)|\n",
      "+--------+-----------+\n",
      "|Mohammed|      10000|\n",
      "| Ibrahim|      17000|\n",
      "|  Ruhaan|      16000|\n",
      "|  Sabeel|      17000|\n",
      "|     Isa|       9000|\n",
      "+--------+-----------+\n",
      "\n"
     ]
    }
   ],
   "source": [
    "df_spark.groupBy('Name').sum('Salary').show()"
   ]
  },
  {
   "cell_type": "code",
   "execution_count": 7,
   "metadata": {},
   "outputs": [
    {
     "name": "stdout",
     "output_type": "stream",
     "text": [
      "+-------------+-----+\n",
      "|   Department|count|\n",
      "+-------------+-----+\n",
      "|     Big Data|    3|\n",
      "| Data Science|    4|\n",
      "|Data Engineer|    3|\n",
      "+-------------+-----+\n",
      "\n"
     ]
    }
   ],
   "source": [
    "df_spark.groupBy('Department').count().show()"
   ]
  },
  {
   "cell_type": "code",
   "execution_count": 8,
   "metadata": {},
   "outputs": [
    {
     "name": "stdout",
     "output_type": "stream",
     "text": [
      "+-------------+------------------+\n",
      "|   Department|       avg(Salary)|\n",
      "+-------------+------------------+\n",
      "|     Big Data|3666.6666666666665|\n",
      "| Data Science|           10500.0|\n",
      "|Data Engineer| 5333.333333333333|\n",
      "+-------------+------------------+\n",
      "\n"
     ]
    }
   ],
   "source": [
    "df_spark.groupBy('Department').avg().show()"
   ]
  },
  {
   "cell_type": "code",
   "execution_count": 23,
   "metadata": {},
   "outputs": [
    {
     "name": "stdout",
     "output_type": "stream",
     "text": [
      "+--------+-----------+\n",
      "|    Name|avg(Salary)|\n",
      "+--------+-----------+\n",
      "|Mohammed|     5000.0|\n",
      "| Ibrahim|     8500.0|\n",
      "|  Ruhaan|     8000.0|\n",
      "|  Sabeel|     8500.0|\n",
      "|     Isa|     4500.0|\n",
      "+--------+-----------+\n",
      "\n"
     ]
    }
   ],
   "source": [
    "df_spark.groupBy('Name').avg().show()"
   ]
  },
  {
   "cell_type": "code",
   "execution_count": 12,
   "metadata": {},
   "outputs": [
    {
     "name": "stdout",
     "output_type": "stream",
     "text": [
      "+--------+-----------+\n",
      "|    Name|max(Salary)|\n",
      "+--------+-----------+\n",
      "|Mohammed|       8000|\n",
      "| Ibrahim|      12000|\n",
      "|  Ruhaan|      10000|\n",
      "|  Sabeel|      12000|\n",
      "|     Isa|       5000|\n",
      "+--------+-----------+\n",
      "\n"
     ]
    }
   ],
   "source": [
    "df_spark.groupBy('Name').max().show()"
   ]
  },
  {
   "cell_type": "code",
   "execution_count": 22,
   "metadata": {},
   "outputs": [
    {
     "name": "stdout",
     "output_type": "stream",
     "text": [
      "+--------+-----------+\n",
      "|    Name|min(Salary)|\n",
      "+--------+-----------+\n",
      "|Mohammed|       2000|\n",
      "| Ibrahim|       5000|\n",
      "|  Ruhaan|       6000|\n",
      "|  Sabeel|       5000|\n",
      "|     Isa|       4000|\n",
      "+--------+-----------+\n",
      "\n"
     ]
    }
   ],
   "source": [
    "df_spark.groupBy('Name').min().show()"
   ]
  },
  {
   "cell_type": "code",
   "execution_count": 21,
   "metadata": {},
   "outputs": [
    {
     "name": "stdout",
     "output_type": "stream",
     "text": [
      "+-----------+\n",
      "|sum(Salary)|\n",
      "+-----------+\n",
      "|      69000|\n",
      "+-----------+\n",
      "\n"
     ]
    }
   ],
   "source": [
    "df_spark.agg({'Salary': 'sum'}).show()"
   ]
  },
  {
   "cell_type": "code",
   "execution_count": null,
   "metadata": {},
   "outputs": [],
   "source": []
  }
 ],
 "metadata": {
  "kernelspec": {
   "display_name": "Python 3",
   "language": "python",
   "name": "python3"
  },
  "language_info": {
   "codemirror_mode": {
    "name": "ipython",
    "version": 3
   },
   "file_extension": ".py",
   "mimetype": "text/x-python",
   "name": "python",
   "nbconvert_exporter": "python",
   "pygments_lexer": "ipython3",
   "version": "3.9.0"
  },
  "orig_nbformat": 4
 },
 "nbformat": 4,
 "nbformat_minor": 2
}
